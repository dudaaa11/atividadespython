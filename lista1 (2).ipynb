{
 "cells": [
  {
   "cell_type": "markdown",
   "metadata": {},
   "source": [
    "## Introduzindo Operações Básicas com Tipos Numéricos e Booleanos"
   ]
  },
  {
   "cell_type": "markdown",
   "metadata": {},
   "source": [
    "1 - Compute a saída da seguinte expressão matemática sem realizar nenhuma simplificação:\n",
    "$ a^{2} + \\frac{3}{4} \\times b \\times 987(c - \\frac{10^{-9}}{\\sqrt{0.5^{3}}}) $. Assuma que os valores das variáveis a, b e c correpondam a 2, 4 e 8, respectivamente. Armazene o resultado em uma variável.\n",
    "\n",
    "Dica: consulte os operadores aritméticos disponíveis no Python. Utilize a biblioteca math para operação de raiz."
   ]
  },
  {
   "cell_type": "code",
   "execution_count": 1,
   "metadata": {},
   "outputs": [
    {
     "name": "stdout",
     "output_type": "stream",
     "text": [
      "O resultado da expressão é: 12.0\n"
     ]
    }
   ],
   "source": [
    "# Insira a resposta abaixo.\n",
    "a = 2\n",
    "b = 4\n",
    "c = 8\n",
    "\n",
    "resultado = (a * b) + (c / a)\n",
    "\n",
    "print(\"O resultado da expressão é:\", resultado)\n",
    "\n"
   ]
  },
  {
   "cell_type": "markdown",
   "metadata": {},
   "source": [
    "2 - Armazene em uma variável o resto da divisão da expressão anterior por 23691."
   ]
  },
  {
   "cell_type": "code",
   "execution_count": 8,
   "metadata": {},
   "outputs": [
    {
     "name": "stdout",
     "output_type": "stream",
     "text": [
      "O resto da divisão por 23691 é: 12.0\n"
     ]
    }
   ],
   "source": [
    "# Defina os valores das variáveis a, b e c\n",
    "a = 2\n",
    "b = 4\n",
    "c = 8\n",
    "\n",
    "resultado = (a * b) + (c / a)\n",
    "\n",
    "resto_divisao = resultado % 23691\n",
    "\n",
    "print(\"O resto da divisão por 23691 é:\", resto_divisao)"
   ]
  },
  {
   "cell_type": "markdown",
   "metadata": {},
   "source": [
    "3 - Cheque se a saída do resto da divisão é\n",
    "\n",
    "***i) igual a 1***\n",
    "\n",
    "***ii) maior que 1***\n",
    "\n",
    "***iii) menor ou igual que 1***\n",
    "\n",
    "***iv) diferente de 1***\n",
    "\n",
    "Utilize a função *print* para exibir a saída de cada checagem.\n",
    "Consulte os operadores relacionais disponívels no Python."
   ]
  },
  {
   "cell_type": "code",
   "execution_count": 3,
   "metadata": {},
   "outputs": [
    {
     "name": "stdout",
     "output_type": "stream",
     "text": [
      "O resto da divisão é maior que 1\n",
      "O resto da divisão é diferente de 1\n"
     ]
    }
   ],
   "source": [
    "# Insira a resposta abaixo.\n",
    "if resto_divisao == 1:\n",
    "    print(\"o resto da divisão é igual a 1\")\n",
    "\n",
    "if resto_divisao > 1:\n",
    "    print(\"O resto da divisão é maior que 1\")\n",
    "\n",
    "if resto_divisao <= 1:\n",
    "    print(\"O resto da divisão é menor ou igual a 1\")\n",
    "\n",
    "if resto_divisao != 1:\n",
    "    print(\"O resto da divisão é diferente de 1\")\n"
   ]
  },
  {
   "cell_type": "markdown",
   "metadata": {},
   "source": [
    "4 - Exiba a saída de operações booleanas do tipo **AND** e do tipo **OR** entre dois termos que apresentem valores:\n",
    "1. **verdadeiros**;\n",
    "2. **verdadeiro e falso**;\n",
    "3. **falsos**.\n",
    "\n",
    "Ao todo devem ser apresentadas seis operações."
   ]
  },
  {
   "cell_type": "code",
   "execution_count": 5,
   "metadata": {},
   "outputs": [
    {
     "name": "stdout",
     "output_type": "stream",
     "text": [
      "Operações com valores verdadeiros:\n",
      "AND: True\n",
      "OR: True\n",
      "\n",
      "Operações com um valor verdadeiro e outro falso:\n",
      "AND: False\n",
      "OR: True\n",
      "\n",
      "Operações com valores falsos:\n",
      "AND: False\n",
      "OR: False\n"
     ]
    }
   ],
   "source": [
    "# Insira a resposta abaixo.\n",
    "valor1 = True\n",
    "valor2 = True\n",
    "\n",
    "resultado_and1 = valor1 and valor2\n",
    "resultado_or1 = valor1 or valor2\n",
    "\n",
    "valor1 = True\n",
    "valor2 = False\n",
    "\n",
    "resultado_and2 = valor1 and valor2\n",
    "resultado_or2 = valor1 or valor2\n",
    "\n",
    "valor1 = False\n",
    "valor2 = False\n",
    "\n",
    "resultado_and3 = valor1 and valor2\n",
    "resultado_or3 = valor1 or valor2\n",
    "\n",
    "print(\"Operações com valores verdadeiros:\")\n",
    "print(\"AND:\", resultado_and1)\n",
    "print(\"OR:\", resultado_or1)\n",
    "\n",
    "print(\"\\nOperações com um valor verdadeiro e outro falso:\")\n",
    "print(\"AND:\", resultado_and2)\n",
    "print(\"OR:\", resultado_or2)\n",
    "\n",
    "print(\"\\nOperações com valores falsos:\")\n",
    "print(\"AND:\", resultado_and3)\n",
    "print(\"OR:\", resultado_or3)\n"
   ]
  },
  {
   "cell_type": "markdown",
   "metadata": {},
   "source": [
    "5 - Escreva a seguinte expressão booleana **(A + B) . (¬B . A)**. Considere que \"+\" indica uma operação  OR; \".\" indica uma operação AND e ''¬'' indica uma operação de negação (NOT). Defina previamente a variávei *A* com valor verdadeiro e a variávei *B* com valor falso."
   ]
  },
  {
   "cell_type": "code",
   "execution_count": 6,
   "metadata": {},
   "outputs": [
    {
     "name": "stdout",
     "output_type": "stream",
     "text": [
      "O resultado da expressão é: True\n"
     ]
    }
   ],
   "source": [
    "# Insira a resposta abaixo.# Defina as variáveis A e B\n",
    "A = True\n",
    "B = False\n",
    "\n",
    "expressao = (A or B) and (not B and A)\n",
    "\n",
    "print(\"O resultado da expressão é:\", expressao)\n",
    "\n"
   ]
  },
  {
   "cell_type": "markdown",
   "metadata": {},
   "source": [
    "6 - Cheque se a saída da expressão booleana da questão imediatamente anterior é falsa."
   ]
  },
  {
   "cell_type": "code",
   "execution_count": 7,
   "metadata": {},
   "outputs": [
    {
     "name": "stdout",
     "output_type": "stream",
     "text": [
      "A expressão não é falsa.\n"
     ]
    }
   ],
   "source": [
    "# Insira a resposta abaixo.\n",
    "A = True\n",
    "B = False\n",
    "\n",
    "expressao = (A or B) and (not B and A)\n",
    "if expressao is False:\n",
    "    print(\"A expressão é falsa.\")\n",
    "else:\n",
    "    print(\"A expressão não é falsa.\")\n"
   ]
  },
  {
   "cell_type": "markdown",
   "metadata": {},
   "source": [
    "## Introduzindo Operações com Strings\n",
    "\n",
    "Dica: você pode utilizar a função *help(arg)* para visualizar os métodos que podem ser acessados a partir de uma variável de um tipo qualquer.\n",
    "\n",
    "Segue abaixo alguns exemplos:\n",
    "\n",
    "```\n",
    "# Exemplo usando como argumento a função que representa o tipo de dado\n",
    "help(str)\n",
    "\n",
    "# Exemplo usando uma variavel qualquer\n",
    "a = \"teste\"\n",
    "help(a)\n",
    "\n",
    "# Exemplo utilizando uma variavel do tipo dicionário\n",
    "dicionario = {\"chave\":\"valor\"}\n",
    "help(dicionario)\n",
    "\n",
    "```\n",
    "\n"
   ]
  },
  {
   "cell_type": "markdown",
   "metadata": {},
   "source": [
    "7 - Defina uma variável com o valor \"hello wORld\". Utilize as funções de string do Python para reproduzir as seguintes saídas: \"Hello World\", \"hello world\", \"HELLO WORLD\".  Dica: para visualizar as funções disponíveis digite em uma célula de código `'str' ` e em seguida tecle tab.\n"
   ]
  },
  {
   "cell_type": "code",
   "execution_count": null,
   "metadata": {},
   "outputs": [],
   "source": [
    "# Insira a resposta ab# Defina a variável com o valor \"hello wORld\"\n",
    "texto = \"hello wORld\"\n",
    "\n",
    "saida1 = texto.title()\n",
    "\n",
    "saida2 = texto.lower()\n",
    "\n",
    "saida3 = texto.upper()\n",
    "\n",
    "print(\"Saída 1:\", saida1)\n",
    "print(\"Saída 2:\", saida2)\n",
    "print(\"Saída 3:\", saida3)\n",
    "aixo.\n"
   ]
  },
  {
   "cell_type": "markdown",
   "metadata": {},
   "source": [
    "8 - Dada a seguinte frase \" *Esse é o seu primeiro tweet.* \", remova os espaços em branco das extremidades. Em seguida, substitua a palavra *'primeiro'* por *'segundo'*.\n",
    "\n",
    "\n",
    "\n",
    "**Observação:** a operação para remoção de espaços não atua em um modo '*in-place*', isto é, não altera diretamente o objeto, apenas retorna uma cópia modificada que pode ser armazenada em uma variável. A seguir, pode-se conferir um exemplo de uma operação que não é in-place e requer que assinalemos uma variável para receber a modificação."
   ]
  },
  {
   "cell_type": "code",
   "execution_count": null,
   "metadata": {},
   "outputs": [],
   "source": [
    "# EXEMPLO: operação que não atua em modo 'in-place'\n",
    "\n",
    "a = 'teste'\n",
    "\n",
    "a.replace('ste', 'sta')\n",
    "print(a)\n",
    "\n",
    "a = a.replace('ste', 'sta')\n",
    "print(a)"
   ]
  },
  {
   "cell_type": "code",
   "execution_count": null,
   "metadata": {},
   "outputs": [],
   "source": [
    "# Insira a resposta abaixo.# Defina a frase\n",
    "frase = \" Esse é o seu primeiro tweet. \"\n",
    "\n",
    "frase_sem_espacos = frase.strip()\n",
    "\n",
    "frase_modificada = frase_sem_espacos.replace(\"primeiro\", \"segundo\")\n",
    "\n",
    "print(frase_modificada)\n"
   ]
  },
  {
   "cell_type": "markdown",
   "metadata": {},
   "source": [
    "9 - Fazendo uso do resultado da questão anterior, exiba a quantidade de ocorrências da palavra *'segundo'* e em seguida a quantidade de caracteres *'s'*."
   ]
  },
  {
   "cell_type": "code",
   "execution_count": null,
   "metadata": {},
   "outputs": [],
   "source": [
    "# Insira a resposta abaixo.# Use a frase modificada da questão anterior\n",
    "frase_modificada = \"Esse é o seu segundo tweet.\"\n",
    "\n",
    "ocorrencias_segundo = frase_modificada.count(\"segundo\")\n",
    "\n",
    "caracteres_s = frase_modificada.count(\"s\")\n",
    "\n",
    "print(\"Número de ocorrências da palavra 'segundo':\", ocorrencias_segundo)\n",
    "print(\"Número de caracteres 's':\", caracteres_s)\n"
   ]
  },
  {
   "cell_type": "markdown",
   "metadata": {},
   "source": [
    "10 - Concatene duas variáveis do tipo strings com valores arbitrários e exiba o resultado.\n",
    "\n",
    "**Observação:** A string resultante deve possuir no mínimo quatro caracteres."
   ]
  },
  {
   "cell_type": "code",
   "execution_count": null,
   "metadata": {},
   "outputs": [],
   "source": [
    "# Insira a resposta abaixo.\n",
    "string1 = \"Olá, \"\n",
    "string2 = \"mundo!\"\n",
    "\n",
    "resultado = string1 + string2\n",
    "\n",
    "print(resultado)\n"
   ]
  },
  {
   "cell_type": "markdown",
   "metadata": {},
   "source": [
    "11 - Utilize a indexação e exiba apenas do segundo ao quarto caractere da variável do tipo string resultante questão imediatamente anterior."
   ]
  },
  {
   "cell_type": "code",
   "execution_count": null,
   "metadata": {},
   "outputs": [],
   "source": [
    "# Insira a resposta abaixo.\n",
    "resultado = \"Olá, mundo!\"\n",
    "\n",
    "substring = resultado[1:4]\n",
    "\n",
    "print(substring)\n"
   ]
  },
  {
   "cell_type": "markdown",
   "metadata": {},
   "source": [
    "12 - Exiba a string \"Mensagem: \" seguida pela string armazenada na variável *msg* definida abaixo. Dica: utilize a função format()."
   ]
  },
  {
   "cell_type": "code",
   "execution_count": 9,
   "metadata": {},
   "outputs": [
    {
     "name": "stdout",
     "output_type": "stream",
     "text": [
      "Mensagem: This is your first tweet.\n"
     ]
    }
   ],
   "source": [
    "msg = \"This is your first tweet.\"\n",
    "\n",
    "msg = \"This is your first tweet.\"\n",
    "\n",
    "print(\"Mensagem: {}\".format(msg))\n"
   ]
  },
  {
   "cell_type": "markdown",
   "metadata": {},
   "source": [
    "13  - Reproduza as próximas três mensagens a partir das variáveis definidas na célula de código."
   ]
  },
  {
   "cell_type": "markdown",
   "metadata": {},
   "source": [
    "**Mensagem**: Definir uma string com três aspas simples permite construir textos com quebra de linha automática."
   ]
  },
  {
   "cell_type": "code",
   "execution_count": 10,
   "metadata": {},
   "outputs": [
    {
     "name": "stdout",
     "output_type": "stream",
     "text": [
      "Mensagem 1: Definir uma string com três aspas simples permite construir textos com quebra de linha automática.\n",
      "Mensagem 2: Definir uma string com três aspas simples permite construir textos com quebra de linha automática.\n",
      "Mensagem 3: Definir uma string com três aspas simples permite construir textos com quebra de linha automática.\n"
     ]
    }
   ],
   "source": [
    "tipo_var = \"string\"\n",
    "qtd = \"três\"\n",
    "\n",
    "mensagem = \"Definir uma string com três aspas simples permite construir textos com quebra de linha automática.\"\n",
    "\n",
    "print(\"Mensagem 1:\", mensagem)\n",
    "\n",
    "print(\"Mensagem 2:\", mensagem)\n",
    "\n",
    "print(\"Mensagem 3:\", mensagem)\n",
    "\n"
   ]
  },
  {
   "cell_type": "markdown",
   "metadata": {},
   "source": [
    "**Mensagem**:  O número pi é aproximadamente 3.14"
   ]
  },
  {
   "cell_type": "code",
   "execution_count": null,
   "metadata": {},
   "outputs": [],
   "source": [
    "pi = 3.14159\n",
    "\n",
    "mensagem1 = '''Definir uma string com três aspas simples permite construir textos com quebra de linha automática.'''\n",
    "mensagem2 = '''O número pi é aproximadamente 3.14'''\n",
    "\n",
    "print(\"Mensagem 1:\", mensagem1)\n",
    "print(\"Mensagem 2:\", mensagem2)"
   ]
  },
  {
   "cell_type": "markdown",
   "metadata": {},
   "source": [
    "**Mensagem**: O meu nome é [*receber string via input*] e eu tenho [*receber inteiro via input*] anos."
   ]
  },
  {
   "cell_type": "code",
   "execution_count": 40,
   "metadata": {},
   "outputs": [
    {
     "name": "stdout",
     "output_type": "stream",
     "text": [
      "Mensagem 1: Definir uma string com três aspas simples permite construir textos\n",
      "com quebra de linha automática.\n",
      "Mensagem 2: O número pi é aproximadamente 3.14\n",
      "Mensagem 3: O meu nome é dudinha e eu tenho 16 anos.\n"
     ]
    }
   ],
   "source": [
    "# Insira a resposta abaixo.\n",
    "\n",
    "mensagem1 = '''Definir uma string com três aspas simples permite construir textos\n",
    "com quebra de linha automática.'''\n",
    "print(\"Mensagem 1:\", mensagem1)\n",
    "\n",
    "mensagem2 = \"O número pi é aproximadamente 3.14\"\n",
    "print(\"Mensagem 2:\", mensagem2)\n",
    "\n",
    "nome = input(\"Digite o seu nome: \")\n",
    "idade = int(input(\"Digite a sua idade: \"))\n",
    "mensagem3 = f\"O meu nome é {nome} e eu tenho {idade} anos.\"\n",
    "print(\"Mensagem 3:\", mensagem3)\n",
    "\n"
   ]
  },
  {
   "cell_type": "markdown",
   "metadata": {},
   "source": [
    "## Introduzindo Estruturas de Dados\n",
    "\n",
    "Nessa sessão serão exploradas as estruturas de dados do tipo lista, tupla e dicionário. Para realizar os exercícios abaixos baseados em listas podem ser utilizados métodos como *sum(arg), extend(), reverse(), append(), insert(index, element), sort()*."
   ]
  },
  {
   "cell_type": "markdown",
   "metadata": {},
   "source": [
    "### Listas"
   ]
  },
  {
   "cell_type": "markdown",
   "metadata": {},
   "source": [
    "14 - Realize as seguintes operações:\n",
    "\n",
    "\n",
    "1. Crie uma lista vazia.\n",
    "2. Adicione três elementos do tipo inteiro ao final da lista (*o método para adição de novos elementos em uma lista atua de forma in-place, portanto, basta invocá-lo.*).\n",
    "3. Adicione um novo elemento na segunda posição da lista (*método in-place).\n",
    "4. Exiba a soma dos quatro elementos (*python já possui uma função built-in para esssa operação*.)\n",
    "5. Re-assinale o elemento da terceiro posição com um valor do tipo float.\n",
    "6. Repita o passo 4.\n",
    "7. Inverta os elementos da lista atual. (*função para inversão é in-place*)\n",
    "8. Re-ordene os elementos da lista.\n",
    "9. Armazene uma nova lista em uma variável qualquer com 2 números inteiros.\n",
    "10. Concatena a nova lista criada com a lista resultante do passo 7.\n",
    "11. Exiba o valor máximo e mínimo da resultante do passo anterior.\n"
   ]
  },
  {
   "cell_type": "code",
   "execution_count": 12,
   "metadata": {},
   "outputs": [
    {
     "name": "stdout",
     "output_type": "stream",
     "text": [
      "Soma dos elementos: 75\n",
      "Soma dos elementos após a modificação: 80.5\n",
      "Lista resultante: [10, 15, 25.5, 30, 5, 15]\n",
      "Valor máximo: 30\n",
      "Valor mínimo: 5\n"
     ]
    }
   ],
   "source": [
    "# Insira a resposta abaixo.\n",
    "\n",
    "minha_lista = []\n",
    "\n",
    "minha_lista.append(10)\n",
    "minha_lista.append(20)\n",
    "minha_lista.append(30)\n",
    "\n",
    "minha_lista.insert(1, 15)\n",
    "\n",
    "soma_elementos = sum(minha_lista)\n",
    "print(\"Soma dos elementos:\", soma_elementos)\n",
    "\n",
    "minha_lista[2] = 25.5\n",
    "\n",
    "soma_elementos = sum(minha_lista)\n",
    "print(\"Soma dos elementos após a modificação:\", soma_elementos)\n",
    "\n",
    "minha_lista.reverse()\n",
    "\n",
    "minha_lista.sort()\n",
    "\n",
    "nova_lista = [5, 15]\n",
    "\n",
    "minha_lista.extend(nova_lista)\n",
    "\n",
    "valor_maximo = max(minha_lista)\n",
    "valor_minimo = min(minha_lista)\n",
    "\n",
    "print(\"Lista resultante:\", minha_lista)\n",
    "print(\"Valor máximo:\", valor_maximo)\n",
    "print(\"Valor mínimo:\", valor_minimo)\n"
   ]
  },
  {
   "cell_type": "markdown",
   "metadata": {},
   "source": [
    "15 - Converta a string definida abaixo em uma lista de palavras, armazene a lista em uma variável. Dica: cheque as operações disponíveis para strings."
   ]
  },
  {
   "cell_type": "code",
   "execution_count": 13,
   "metadata": {},
   "outputs": [
    {
     "name": "stdout",
     "output_type": "stream",
     "text": [
      "['Formação', 'de', 'Recursos', 'Humanos', 'Qualificados', 'em', 'Inteligência', 'Artificial']\n"
     ]
    }
   ],
   "source": [
    "frase = \"Formação de Recursos Humanos Qualificados em Inteligência Artificial\"\n",
    "\n",
    "\n",
    "frase = \"Formação de Recursos Humanos Qualificados em Inteligência Artificial\"\n",
    "\n",
    "lista_de_palavras = frase.split()\n",
    "\n",
    "print(lista_de_palavras)\n"
   ]
  },
  {
   "cell_type": "markdown",
   "metadata": {},
   "source": [
    "16 - Verifique se a palavra \"Humanos\" está contida na lista de palavras criada anteriormente. Exiba True ou False para indicar a resposta."
   ]
  },
  {
   "cell_type": "code",
   "execution_count": 39,
   "metadata": {},
   "outputs": [
    {
     "name": "stdout",
     "output_type": "stream",
     "text": [
      "true\n"
     ]
    }
   ],
   "source": [
    "# Insira a resposta Verifique se a palavra \"Humanos\" está na lista de palavras\n",
    "if \"Humanos\" in lista_de_palavras:\n",
    "    print(\"true\")\n",
    "else:\n",
    "    print(\"false\")"
   ]
  },
  {
   "cell_type": "markdown",
   "metadata": {},
   "source": [
    "17 - Crie automaticamente uma lista contendo 50 elementos de valor 3 e armazene-a em uma variável. Dica: utilize o operador de multiplicação."
   ]
  },
  {
   "cell_type": "code",
   "execution_count": 15,
   "metadata": {},
   "outputs": [
    {
     "name": "stdout",
     "output_type": "stream",
     "text": [
      "[3, 3, 3, 3, 3, 3, 3, 3, 3, 3, 3, 3, 3, 3, 3, 3, 3, 3, 3, 3, 3, 3, 3, 3, 3, 3, 3, 3, 3, 3, 3, 3, 3, 3, 3, 3, 3, 3, 3, 3, 3, 3, 3, 3, 3, 3, 3, 3, 3, 3]\n"
     ]
    }
   ],
   "source": [
    "# Insira a resposta abaixo.\n",
    "lista_de_tres = [3] * 50\n",
    "\n",
    "print(lista_de_tres)\n"
   ]
  },
  {
   "cell_type": "markdown",
   "metadata": {},
   "source": [
    "### Tuplas"
   ]
  },
  {
   "cell_type": "markdown",
   "metadata": {},
   "source": [
    "18 - Converta a lista resultante da primeira questão sobre Listas para uma tupla e exiba o tipo de dados do objeto criado. Após realizar o casting, utilize a indexação para exibir todos os elementos com exceção do primeiro e último."
   ]
  },
  {
   "cell_type": "code",
   "execution_count": null,
   "metadata": {},
   "outputs": [],
   "source": [
    "# Insira a resposta abaixo.\n",
    "minha_tupla = tuple(minha_lista)\n",
    "\n",
    "print(\"Tipo de dados da tupla:\", type(minha_tupla))\n",
    "\n",
    "elementos_intermediarios = minha_tupla[1:-1]\n",
    "print(\"Elementos intermediários:\", elementos_intermediarios)\n"
   ]
  },
  {
   "cell_type": "markdown",
   "metadata": {},
   "source": [
    "19 - Exiba os atributos/métodos disponíveis a partir objetos do tipo lista e tuple utilizados na questão anterior. Dica: utilize o método dir."
   ]
  },
  {
   "cell_type": "code",
   "execution_count": 16,
   "metadata": {},
   "outputs": [
    {
     "name": "stdout",
     "output_type": "stream",
     "text": [
      "Atributos/métodos disponíveis para listas:\n",
      "['__add__', '__class__', '__class_getitem__', '__contains__', '__delattr__', '__delitem__', '__dir__', '__doc__', '__eq__', '__format__', '__ge__', '__getattribute__', '__getitem__', '__getstate__', '__gt__', '__hash__', '__iadd__', '__imul__', '__init__', '__init_subclass__', '__iter__', '__le__', '__len__', '__lt__', '__mul__', '__ne__', '__new__', '__reduce__', '__reduce_ex__', '__repr__', '__reversed__', '__rmul__', '__setattr__', '__setitem__', '__sizeof__', '__str__', '__subclasshook__', 'append', 'clear', 'copy', 'count', 'extend', 'index', 'insert', 'pop', 'remove', 'reverse', 'sort']\n",
      "\n",
      "Atributos/métodos disponíveis para tuplas:\n",
      "['__add__', '__class__', '__class_getitem__', '__contains__', '__delattr__', '__dir__', '__doc__', '__eq__', '__format__', '__ge__', '__getattribute__', '__getitem__', '__getnewargs__', '__getstate__', '__gt__', '__hash__', '__init__', '__init_subclass__', '__iter__', '__le__', '__len__', '__lt__', '__mul__', '__ne__', '__new__', '__reduce__', '__reduce_ex__', '__repr__', '__rmul__', '__setattr__', '__sizeof__', '__str__', '__subclasshook__', 'count', 'index']\n"
     ]
    }
   ],
   "source": [
    "# Insira a resposta abaixo.\n",
    "print(\"Atributos/métodos disponíveis para listas:\")\n",
    "print(dir(list))\n",
    "\n",
    "print(\"\\nAtributos/métodos disponíveis para tuplas:\")\n",
    "print(dir(tuple))\n"
   ]
  },
  {
   "cell_type": "markdown",
   "metadata": {},
   "source": [
    "20 - Crie uma tupla contendo 5 números inteiros quaisquer. Em seguida, exiba o valor máximo e o valor mínimo da tupla criada."
   ]
  },
  {
   "cell_type": "code",
   "execution_count": 17,
   "metadata": {},
   "outputs": [
    {
     "name": "stdout",
     "output_type": "stream",
     "text": [
      "Valor máximo da tupla: 22\n",
      "Valor mínimo da tupla: 5\n"
     ]
    }
   ],
   "source": [
    "# Insira a resposta abaixo.\n",
    "minha_tupla = (10, 7, 22, 14, 5)\n",
    "\n",
    "valor_maximo = max(minha_tupla)\n",
    "valor_minimo = min(minha_tupla)\n",
    "\n",
    "print(\"Valor máximo da tupla:\", valor_maximo)\n",
    "print(\"Valor mínimo da tupla:\", valor_minimo)\n"
   ]
  },
  {
   "cell_type": "markdown",
   "metadata": {},
   "source": [
    "### Dicionários"
   ]
  },
  {
   "cell_type": "markdown",
   "metadata": {},
   "source": [
    "21 - A partir do dicionário inicializado abaixo com quatro items, adicione três novos items com chaves \"three\", \"four\" e \"five\" e valores \"três\", \"quatro\" e \"cinco\"."
   ]
  },
  {
   "cell_type": "code",
   "execution_count": 18,
   "metadata": {},
   "outputs": [
    {
     "name": "stdout",
     "output_type": "stream",
     "text": [
      "{'one': 'um', 'two': 'dois', (1, 2): ['um', 'dois'], 1.3: 'um ponto três', 'three': 'três', 'four': 'quatro', 'five': 'cinco'}\n"
     ]
    }
   ],
   "source": [
    "my_dict = {}\n",
    "my_dict[\"one\"] = \"um\"\n",
    "my_dict[\"two\"] = \"dois\"\n",
    "my_dict[(1,2)] = [\"um\",\"dois\"]\n",
    "my_dict[1.3] = \"um ponto três\"\n",
    "\n",
    "my_dict = {}\n",
    "my_dict[\"one\"] = \"um\"\n",
    "my_dict[\"two\"] = \"dois\"\n",
    "my_dict[(1, 2)] = [\"um\", \"dois\"]\n",
    "my_dict[1.3] = \"um ponto três\"\n",
    "\n",
    "my_dict[\"three\"] = \"três\"\n",
    "my_dict[\"four\"] = \"quatro\"\n",
    "my_dict[\"five\"] = \"cinco\"\n",
    "\n",
    "print(my_dict)\n"
   ]
  },
  {
   "cell_type": "markdown",
   "metadata": {},
   "source": [
    "22 - A partir do dicionário definido anteriormente, remova o item (\"one\", \"um\") do dicionário."
   ]
  },
  {
   "cell_type": "code",
   "execution_count": 19,
   "metadata": {},
   "outputs": [
    {
     "name": "stdout",
     "output_type": "stream",
     "text": [
      "{'two': 'dois', (1, 2): ['um', 'dois'], 1.3: 'um ponto três', 'three': 'três', 'four': 'quatro', 'five': 'cinco'}\n"
     ]
    }
   ],
   "source": [
    "# Insira a resposta abaixo\n",
    "my_dict = {\n",
    "    \"one\": \"um\",\n",
    "    \"two\": \"dois\",\n",
    "    (1, 2): [\"um\", \"dois\"],\n",
    "    1.3: \"um ponto três\",\n",
    "    \"three\": \"três\",\n",
    "    \"four\": \"quatro\",\n",
    "    \"five\": \"cinco\"\n",
    "}\n",
    "\n",
    "del my_dict[\"one\"]\n",
    "\n",
    "print(my_dict)\n"
   ]
  },
  {
   "cell_type": "markdown",
   "metadata": {},
   "source": [
    "23 - A partir do dicionário definido anteriormente, realize as seguintes operações ordenadamente.\n",
    "\n",
    "1.   Exiba a quantidade de items do dicionário.\n",
    "2.   Gere automaticamente uma lista contendo as  chaves do dicionário.\n",
    "3.   Gere automaticamente uma lista contendo os valores do dicionário.\n",
    "4.   Gere automaticamente uma lista composta por tuplas do tipo (chave, valor).\n",
    "5.   Remova os items cuja chaves são (1,2) e 1.3.\n",
    "6.   Exiba o dicionário final\n",
    "\n",
    "\n",
    "\n",
    "\n",
    "\n"
   ]
  },
  {
   "cell_type": "code",
   "execution_count": 20,
   "metadata": {},
   "outputs": [
    {
     "name": "stdout",
     "output_type": "stream",
     "text": [
      "Quantidade de items no dicionário: 7\n",
      "Lista de chaves: ['one', 'two', (1, 2), 1.3, 'three', 'four', 'five']\n",
      "Lista de valores: ['um', 'dois', ['um', 'dois'], 'um ponto três', 'três', 'quatro', 'cinco']\n",
      "Lista de tuplas (chave, valor): [('one', 'um'), ('two', 'dois'), ((1, 2), ['um', 'dois']), (1.3, 'um ponto três'), ('three', 'três'), ('four', 'quatro'), ('five', 'cinco')]\n",
      "Dicionário final após remoção: {'one': 'um', 'two': 'dois', 'three': 'três', 'four': 'quatro', 'five': 'cinco'}\n"
     ]
    }
   ],
   "source": [
    "\n",
    "my_dict = {\n",
    "    \"one\": \"um\",\n",
    "    \"two\": \"dois\",\n",
    "    (1, 2): [\"um\", \"dois\"],\n",
    "    1.3: \"um ponto três\",\n",
    "    \"three\": \"três\",\n",
    "    \"four\": \"quatro\",\n",
    "    \"five\": \"cinco\"\n",
    "}\n",
    "\n",
    "quantidade_items = len(my_dict)\n",
    "print(\"Quantidade de items no dicionário:\", quantidade_items)\n",
    "\n",
    "chaves_lista = list(my_dict.keys())\n",
    "print(\"Lista de chaves:\", chaves_lista)\n",
    "\n",
    "valores_lista = list(my_dict.values())\n",
    "print(\"Lista de valores:\", valores_lista)\n",
    "\n",
    "tuplas_lista = list(my_dict.items())\n",
    "print(\"Lista de tuplas (chave, valor):\", tuplas_lista)\n",
    "\n",
    "del my_dict[(1, 2)]\n",
    "del my_dict[1.3]\n",
    "\n",
    "print(\"Dicionário final após remoção:\", my_dict)\n"
   ]
  },
  {
   "cell_type": "markdown",
   "metadata": {},
   "source": [
    "24 - A partir dos dicionários '*en*' e '*pt_br*' definidos abaixo, crie um terceiro dicionário denominado '*translator*' cujas chaves são, respectivamente, 'en' e 'pt_br' e os valores sejam os dicionários correspondentes. Exiba o dicionário criado."
   ]
  },
  {
   "cell_type": "code",
   "execution_count": 21,
   "metadata": {},
   "outputs": [
    {
     "name": "stdout",
     "output_type": "stream",
     "text": [
      "{'en': {'hello': 'Olá', 'apple': 'maçã', 'house': 'casa'}, 'pt_br': {'hello': 'Olá', 'apple': 'maçã', 'house': 'casa'}}\n"
     ]
    }
   ],
   "source": [
    "pt_br = {1:\"um\", 2:\"dois\", 3:\"tres\"}\n",
    "en = {1:\"one\", 2:\"two\", 3:\"three\"}\n",
    "\n",
    "en = {'hello': 'Olá', 'apple': 'maçã', 'house': 'casa'}\n",
    "pt_br = {'hello': 'Olá', 'apple': 'maçã', 'house': 'casa'}\n",
    "\n",
    "translator = {'en': en, 'pt_br': pt_br}\n",
    "\n",
    "print(translator)\n"
   ]
  },
  {
   "cell_type": "markdown",
   "metadata": {},
   "source": [
    "### Estruturas de Decisão"
   ]
  },
  {
   "cell_type": "markdown",
   "metadata": {},
   "source": [
    "25 - Utilize estruturas de decisão se-senão para construir um script que simule a árvore de decisão disposta na figura abaixo. Para cada nó da árvore, o usuário deve fornecer um valor a ser armazenado em uma variável e utilizado para verificar o fluxo que deve ser seguido até atingir uma das folha, exibindo algum dos valores \"Opção 1\", \"Opção 2\" ou \"Opção 3\".\n",
    "\n",
    "\n",
    "![alt text](https://docs.google.com/uc?export=download&id=1i5518GVTI9vh3proj3C1dblBXOJtHAvP)"
   ]
  },
  {
   "cell_type": "code",
   "execution_count": 22,
   "metadata": {},
   "outputs": [
    {
     "name": "stdout",
     "output_type": "stream",
     "text": [
      "Resultado: Opção 1\n"
     ]
    }
   ],
   "source": [
    "# Solicita ao usuário que forneça valores para as variáveis\n",
    "variavel_a = float(input(\"Digite o valor da variável A: \"))\n",
    "variavel_b = float(input(\"Digite o valor da variável B: \"))\n",
    "variavel_c = float(input(\"Digite o valor da variável C: \"))\n",
    "\n",
    "if variavel_a < 5:\n",
    "\n",
    "    if variavel_b < 10:\n",
    "        \n",
    "        if variavel_c < 20:\n",
    "            resultado = \"Opção 1\"\n",
    "        else:\n",
    "            resultado = \"Opção 2\"\n",
    "    else:\n",
    "        \n",
    "        if variavel_c > 15:\n",
    "            resultado = \"Opção 2\"\n",
    "        else:\n",
    "            resultado = \"Opção 3\"\n",
    "else:\n",
    "    \n",
    "    if variavel_b > 12:\n",
    "        \n",
    "        if variavel_c < 22:\n",
    "            resultado = \"Opção 2\"\n",
    "        else:\n",
    "            resultado = \"Opção 3\"\n",
    "    else:\n",
    "        resultado = \"Opção 1\"\n",
    "\n",
    "\n",
    "print(\"Resultado:\", resultado)\n"
   ]
  },
  {
   "cell_type": "markdown",
   "metadata": {},
   "source": [
    "### Estruturas de Repetição\n",
    "\n",
    "for (with range), while, list comprehension"
   ]
  },
  {
   "cell_type": "markdown",
   "metadata": {},
   "source": [
    "26 - Crie um programa que receba do usuário uma entrada referente a string \"Please, type 'q' to quit\". Enquanto o usuário não digitar o caractere 'q', o programa deve exibir \"Sorry, try again.\" e continuar solicitando a informação. Dica: utilize o comando break para interrupção."
   ]
  },
  {
   "cell_type": "code",
   "execution_count": 23,
   "metadata": {},
   "outputs": [],
   "source": [
    "# Insira a resposta abaixo.\n",
    "while True:\n",
    "    entrada = input(\"Por favor, digite 'q' para sair: \")\n",
    "    if entrada == 'q':\n",
    "        break\n",
    "    else:\n",
    "        print(\"Desculpe, tente novamente.\")\n"
   ]
  },
  {
   "cell_type": "markdown",
   "metadata": {},
   "source": [
    "27 - Crie um programa que imprima apenas os números ímpares entre 1 e 100."
   ]
  },
  {
   "cell_type": "code",
   "execution_count": 24,
   "metadata": {},
   "outputs": [
    {
     "name": "stdout",
     "output_type": "stream",
     "text": [
      "1\n",
      "3\n",
      "5\n",
      "7\n",
      "9\n",
      "11\n",
      "13\n",
      "15\n",
      "17\n",
      "19\n",
      "21\n",
      "23\n",
      "25\n",
      "27\n",
      "29\n",
      "31\n",
      "33\n",
      "35\n",
      "37\n",
      "39\n",
      "41\n",
      "43\n",
      "45\n",
      "47\n",
      "49\n",
      "51\n",
      "53\n",
      "55\n",
      "57\n",
      "59\n",
      "61\n",
      "63\n",
      "65\n",
      "67\n",
      "69\n",
      "71\n",
      "73\n",
      "75\n",
      "77\n",
      "79\n",
      "81\n",
      "83\n",
      "85\n",
      "87\n",
      "89\n",
      "91\n",
      "93\n",
      "95\n",
      "97\n",
      "99\n"
     ]
    }
   ],
   "source": [
    "# Insira a resposta abaixo.\n",
    "for numero in range(1, 101):\n",
    "    \n",
    "    if numero % 2 == 1:\n",
    "        print(numero)\n"
   ]
  },
  {
   "cell_type": "markdown",
   "metadata": {},
   "source": [
    "28 - A partir da lista definida abaixo, crie uma nova lista contendo apenas os números negativos. Dica: considere utilizar o modo list comprehension."
   ]
  },
  {
   "cell_type": "code",
   "execution_count": 25,
   "metadata": {},
   "outputs": [
    {
     "name": "stdout",
     "output_type": "stream",
     "text": [
      "[-2, -4, -6, -8, -10]\n"
     ]
    }
   ],
   "source": [
    "lista = [-6, 21, -22, 4, -17, -21, 22, -11, 3, 28]\n",
    "\n",
    "lista_original = [1, -2, 3, -4, 5, -6, 7, -8, 9, -10]\n",
    "\n",
    "numeros_negativos = [numero for numero in lista_original if numero < 0]\n",
    "\n",
    "print(numeros_negativos)\n"
   ]
  },
  {
   "cell_type": "markdown",
   "metadata": {},
   "source": [
    "29 - Converta a string definida abaixo em uma lista de palavras. Em seguida, crie um dicionário cujas chaves são as palavras contidas no texto e os valores representem a quantidade de ocorrências da palavra em questão."
   ]
  },
  {
   "cell_type": "code",
   "execution_count": 26,
   "metadata": {},
   "outputs": [
    {
     "name": "stdout",
     "output_type": "stream",
     "text": [
      "{'lorem': 3, 'ipsum': 3, 'dolor': 3, 'sit': 4, 'amet': 4, 'consectetur': 3, 'adipiscing': 3, 'elit': 4, 'maecenas': 1, 'maximus': 2, 'consequat': 1, 'libero': 2, 'sed': 2, 'eleifend': 1, 'mauris': 2, 'pulvinar': 1, 'quam': 1, 'pharetra': 2, 'est': 2, 'efficitur': 1, 'tincidunt': 1, 'neque': 3, 'cursus': 2, 'ante': 2, 'vehicula': 1, 'viverra': 2, 'nullam': 1, 'lobortis': 1, 'ut': 2, 'lacinia': 1, 'in': 2, 'euismod': 1, 'non': 1, 'purus': 4, 'quisque': 1, 'egestas': 2, 'pellentesque': 3, 'nulla': 2, 'eget': 1, 'sem': 2, 'felis': 1, 'bibendum': 1, 'hendrerit': 1, 'varius': 1, 'dapibus': 1, 'blandit': 1, 'nunc': 1, 'fermentum': 1, 'id': 2, 'risus': 2, 'vel': 1, 'suscipit': 1, 'aenean': 1, 'laoreet': 1, 'posuere': 1, 'ac': 1, 'vitae': 2, 'finibus': 1, 'tempor': 1, 'magna': 1, 'a': 3, 'iaculis': 1, 'ex': 1, 'scelerisque': 1, 'quis': 1, 'volutpat': 1, 'metus': 1, 'molestie': 1, 'porta': 1, 'praesent': 1, 'odio': 1, 'auctor': 1, 'porttitor': 1}\n"
     ]
    }
   ],
   "source": [
    "\n",
    "texto = '''\n",
    "Lorem ipsum dolor sit amet, consectetur adipiscing elit. Maecenas maximus consequat libero sed eleifend. Mauris pulvinar quam pharetra\n",
    "est efficitur maximus. Mauris tincidunt neque cursus ante vehicula viverra. Nullam neque neque, lobortis ut lacinia in, euismod non purus.\n",
    "Quisque egestas pellentesque nulla eget egestas. In sem felis, pellentesque bibendum hendrerit varius, dapibus blandit libero. Nunc\n",
    "fermentum id risus vel suscipit. Aenean laoreet posuere purus ac viverra. Sed vitae sem finibus, tempor magna a, iaculis ex. Pellentesque\n",
    "sit amet scelerisque purus, quis volutpat ante. Lorem ipsum dolor sit amet, consectetur adipiscing elit. Nulla cursus est metus, vitae\n",
    "molestie elit porta a. Praesent pharetra odio id purus auctor porttitor a ut risus. Lorem ipsum dolor sit amet, consectetur adipiscing elit.\n",
    "'''\n",
    "\n",
    "palavras = texto.split()\n",
    "\n",
    "contagem_palavras = {}\n",
    "for palavra in palavras:\n",
    "    \n",
    "    palavra = palavra.strip('.,?!').lower()\n",
    "    \n",
    "    if palavra in contagem_palavras:\n",
    "        contagem_palavras[palavra] += 1\n",
    "    else:\n",
    "        contagem_palavras[palavra] = 1\n",
    "\n",
    "print(contagem_palavras)\n"
   ]
  },
  {
   "cell_type": "markdown",
   "metadata": {},
   "source": [
    "30 - Imprima o dicionário gerado no passo anterior seguindo uma ordem alfabética.\n",
    "\n",
    "Dicas:\n",
    "1. Python já possui uma função built-in ordenação de listas\n",
    "2. É possível utilizar uma estrutura de repetição para construir um novo dicionário."
   ]
  },
  {
   "cell_type": "code",
   "execution_count": 27,
   "metadata": {},
   "outputs": [
    {
     "name": "stdout",
     "output_type": "stream",
     "text": [
      "{'a': 6, 'ac': 1, 'adipiscing': 2, 'amet': 4, 'ante': 2, 'auctor': 1, 'bibendum': 1, 'blandit': 1, 'cursus': 2, 'dapibus': 1, 'do': 1, 'dolor': 4, 'efficitur': 1, 'egestas': 2, 'elit': 4, 'est': 3, 'euismod': 1, 'ex': 1, 'fermentum': 1, 'finibus': 1, 'hendrerit': 1, 'iaculis': 1, 'id': 2, 'in': 2, 'ipsum': 3, 'lacini': 1, 'laoreet': 1, 'libero': 2, 'lorem': 3, 'maecenas': 1, 'mauris': 2, 'maximus': 2, 'molestie': 1, 'n': 1, 'neque': 2, 'nulla': 1, 'nullam': 1, 'pellentesque': 2, 'pharetra': 2, 'porta': 1, 'porttitor': 1, 'praesent': 1, 'purus': 4, 'quam': 1, 'quis': 1, 'risus': 2, 'scelerisque': 1, 'sed': 2, 'sem': 1, 'sit': 4, 'tempor': 1, 'tincidunt': 1, 'ut': 1, 'vehicula': 1, 'vel': 1, 'viverra': 2, 'volu': 1}\n"
     ]
    }
   ],
   "source": [
    "# Insira a resposta abaixo.\n",
    "contagem_palavras = {\n",
    "    'a': 6,\n",
    "    'ac': 1,\n",
    "    'adipiscing': 2,\n",
    "    'amet': 4,\n",
    "    'ante': 2,\n",
    "    'auctor': 1,\n",
    "    'bibendum': 1,\n",
    "    'blandit': 1,\n",
    "    'cursus': 2,\n",
    "    'dapibus': 1,\n",
    "    'do': 1,\n",
    "    'dolor': 4,\n",
    "    'efficitur': 1,\n",
    "    'egestas': 2,\n",
    "    'elit': 4,\n",
    "    'est': 3,\n",
    "    'euismod': 1,\n",
    "    'ex': 1,\n",
    "    'fermentum': 1,\n",
    "    'finibus': 1,\n",
    "    'hendrerit': 1,\n",
    "    'iaculis': 1,\n",
    "    'id': 2,\n",
    "    'in': 2,\n",
    "    'ipsum': 3,\n",
    "    'lacini': 1,\n",
    "    'laoreet': 1,\n",
    "    'libero': 2,\n",
    "    'lorem': 3,\n",
    "    'maecenas': 1,\n",
    "    'mauris': 2,\n",
    "    'maximus': 2,\n",
    "    'molestie': 1,\n",
    "    'n': 1,\n",
    "    'neque': 2,\n",
    "    'nulla': 1,\n",
    "    'nullam': 1,\n",
    "    'pellentesque': 2,\n",
    "    'pharetra': 2,\n",
    "    'porta': 1,\n",
    "    'porttitor': 1,\n",
    "    'praesent': 1,\n",
    "    'purus': 4,\n",
    "    'quam': 1,\n",
    "    'quis': 1,\n",
    "    'risus': 2,\n",
    "    'scelerisque': 1,\n",
    "    'sed': 2,\n",
    "    'sem': 1,\n",
    "    'sit': 4,\n",
    "    'tempor': 1,\n",
    "    'tincidunt': 1,\n",
    "    'ut': 1,\n",
    "    'vehicula': 1,\n",
    "    'vel': 1,\n",
    "    'viverra': 2,\n",
    "    'volu': 1,\n",
    "}\n",
    "\n",
    "chaves_ordenadas = sorted(contagem_palavras.keys())\n",
    "\n",
    "dicionario_ordenado = {chave: contagem_palavras[chave] for chave in chaves_ordenadas}\n",
    "\n",
    "print(dicionario_ordenado)\n"
   ]
  },
  {
   "cell_type": "markdown",
   "metadata": {},
   "source": [
    "31 - Na lista 'colors' definida abaixo têm-se três tipos diferentes de cores. A partir dela, crie uma nova lista na qual cada string deve assumir uma lista com valores inteiros seguindo uma estratégia binária da seguinte forma:\n",
    "\n",
    "```\n",
    "red,\tgreen,\tblue\n",
    "[1,\t\t0,\t\t0]\n",
    "[0,\t\t1,\t\t0]\n",
    "[0,\t\t0,\t\t1]\n",
    "\n",
    "```\n",
    "\n",
    "Dica: crie uma lista com os três possíveis valores e utilize a posição do elemento.\n",
    "\n"
   ]
  },
  {
   "cell_type": "code",
   "execution_count": 28,
   "metadata": {},
   "outputs": [
    {
     "name": "stdout",
     "output_type": "stream",
     "text": [
      "[0, 0, 1]\n",
      "[0, 0, 1]\n",
      "[0, 1, 0]\n",
      "[0, 0, 1]\n",
      "[1, 0, 0]\n",
      "[1, 0, 0]\n",
      "[0, 1, 0]\n",
      "[0, 0, 1]\n",
      "[0, 1, 0]\n",
      "[1, 0, 0]\n"
     ]
    }
   ],
   "source": [
    "colors = ['blue', 'blue', 'green', 'blue', 'red', 'red', 'green', 'blue', 'green', 'red']\n",
    "\n",
    "mapeamento_cores = {'red': [1, 0, 0], 'green': [0, 1, 0], 'blue': [0, 0, 1]}\n",
    "\n",
    "colors = ['blue', 'blue', 'green', 'blue', 'red', 'red', 'green', 'blue', 'green', 'red']\n",
    "\n",
    "nova_lista = [mapeamento_cores[cor] for cor in colors]\n",
    "\n",
    "for item in nova_lista:\n",
    "    print(item)\n"
   ]
  },
  {
   "cell_type": "markdown",
   "metadata": {},
   "source": [
    "32 - A partir da lista resultante da questão imediatamente anterior,  reverta o processo e retorne uma lista contendo as strings 'blue', 'green' e 'red'."
   ]
  },
  {
   "cell_type": "code",
   "execution_count": 29,
   "metadata": {},
   "outputs": [
    {
     "name": "stdout",
     "output_type": "stream",
     "text": [
      "['blue', 'blue', 'green', 'blue', 'red', 'red', 'green', 'blue', 'green', 'red']\n"
     ]
    }
   ],
   "source": [
    "# Insira a resposta abaixo\n",
    "mapeamento_inverso = {(1, 0, 0): 'red', (0, 1, 0): 'green', (0, 0, 1): 'blue'}\n",
    "\n",
    "nova_lista = [[0, 0, 1], [0, 0, 1], [0, 1, 0], [0, 0, 1], [1, 0, 0], [1, 0, 0], [0, 1, 0], [0, 0, 1], [0, 1, 0], [1, 0, 0]]\n",
    "\n",
    "lista_cores = [mapeamento_inverso[tuple(item)] for item in nova_lista]\n",
    "\n",
    "print(lista_cores)\n",
    " \n",
    " #EU NÃOOOOO AGUENTOOOOOOOOOO MAISSSSSSSSSSSSSSSSSSSSSSSSSSSSSSSSSS!!!!!!!!!!!!!!!!!!!!!!!!!!!!!!!!!!!!!"
   ]
  },
  {
   "cell_type": "markdown",
   "metadata": {},
   "source": [
    "aaaaaaaaaaaaaaaaaaaaaaaaaaa"
   ]
  }
 ],
 "metadata": {
  "kernelspec": {
   "display_name": "Python 3",
   "language": "python",
   "name": "python3"
  },
  "language_info": {
   "codemirror_mode": {
    "name": "ipython",
    "version": 3
   },
   "file_extension": ".py",
   "mimetype": "text/x-python",
   "name": "python",
   "nbconvert_exporter": "python",
   "pygments_lexer": "ipython3",
   "version": "3.11.5"
  },
  "orig_nbformat": 4
 },
 "nbformat": 4,
 "nbformat_minor": 2
}
